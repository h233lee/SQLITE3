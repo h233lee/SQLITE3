{
 "cells": [
  {
   "cell_type": "markdown",
   "metadata": {},
   "source": [
    "The Chinook is a record store that sell a variety of music. This database has all of its operational data.\n",
    "<br>\n",
    "The schema is as follows\n",
    "![title](Screen Shot 2019-09-11 at 8.39.22 PM.png)"
   ]
  },
  {
   "cell_type": "code",
   "execution_count": 1,
   "metadata": {},
   "outputs": [],
   "source": [
    "#packages\n",
    "import pandas as pd\n",
    "import matplotlib.pyplot as plt\n",
    "import sqlite3\n",
    "\n",
    "%matplotlib inline"
   ]
  },
  {
   "cell_type": "code",
   "execution_count": 2,
   "metadata": {},
   "outputs": [
    {
     "data": {
      "text/html": [
       "<div>\n",
       "<style scoped>\n",
       "    .dataframe tbody tr th:only-of-type {\n",
       "        vertical-align: middle;\n",
       "    }\n",
       "\n",
       "    .dataframe tbody tr th {\n",
       "        vertical-align: top;\n",
       "    }\n",
       "\n",
       "    .dataframe thead th {\n",
       "        text-align: right;\n",
       "    }\n",
       "</style>\n",
       "<table border=\"1\" class=\"dataframe\">\n",
       "  <thead>\n",
       "    <tr style=\"text-align: right;\">\n",
       "      <th></th>\n",
       "      <th>name</th>\n",
       "      <th>type</th>\n",
       "    </tr>\n",
       "  </thead>\n",
       "  <tbody>\n",
       "    <tr>\n",
       "      <th>0</th>\n",
       "      <td>album</td>\n",
       "      <td>table</td>\n",
       "    </tr>\n",
       "    <tr>\n",
       "      <th>1</th>\n",
       "      <td>artist</td>\n",
       "      <td>table</td>\n",
       "    </tr>\n",
       "    <tr>\n",
       "      <th>2</th>\n",
       "      <td>customer</td>\n",
       "      <td>table</td>\n",
       "    </tr>\n",
       "    <tr>\n",
       "      <th>3</th>\n",
       "      <td>employee</td>\n",
       "      <td>table</td>\n",
       "    </tr>\n",
       "    <tr>\n",
       "      <th>4</th>\n",
       "      <td>genre</td>\n",
       "      <td>table</td>\n",
       "    </tr>\n",
       "    <tr>\n",
       "      <th>5</th>\n",
       "      <td>invoice</td>\n",
       "      <td>table</td>\n",
       "    </tr>\n",
       "    <tr>\n",
       "      <th>6</th>\n",
       "      <td>invoice_line</td>\n",
       "      <td>table</td>\n",
       "    </tr>\n",
       "    <tr>\n",
       "      <th>7</th>\n",
       "      <td>media_type</td>\n",
       "      <td>table</td>\n",
       "    </tr>\n",
       "    <tr>\n",
       "      <th>8</th>\n",
       "      <td>playlist</td>\n",
       "      <td>table</td>\n",
       "    </tr>\n",
       "    <tr>\n",
       "      <th>9</th>\n",
       "      <td>playlist_track</td>\n",
       "      <td>table</td>\n",
       "    </tr>\n",
       "    <tr>\n",
       "      <th>10</th>\n",
       "      <td>track</td>\n",
       "      <td>table</td>\n",
       "    </tr>\n",
       "    <tr>\n",
       "      <th>11</th>\n",
       "      <td>country_sales_order</td>\n",
       "      <td>view</td>\n",
       "    </tr>\n",
       "  </tbody>\n",
       "</table>\n",
       "</div>"
      ],
      "text/plain": [
       "                   name   type\n",
       "0                 album  table\n",
       "1                artist  table\n",
       "2              customer  table\n",
       "3              employee  table\n",
       "4                 genre  table\n",
       "5               invoice  table\n",
       "6          invoice_line  table\n",
       "7            media_type  table\n",
       "8              playlist  table\n",
       "9        playlist_track  table\n",
       "10                track  table\n",
       "11  country_sales_order   view"
      ]
     },
     "execution_count": 2,
     "metadata": {},
     "output_type": "execute_result"
    }
   ],
   "source": [
    "#Helper functions to easily connect and disconnect to DB\n",
    "\n",
    "\n",
    "def run_query(q):\n",
    "    with sqlite3.connect('chinook.db') as conn:\n",
    "        return pd.read_sql(q, conn)\n",
    "        \n",
    "def run_command(c):        \n",
    "    with sqlite3.connect('chinook.db') as conn:\n",
    "        conn.isolation_level = None\n",
    "        conn.execute(c)\n",
    "        \n",
    "def show_tables():\n",
    "    with sqlite3.connect('chinook.db') as conn:\n",
    "        return run_query('''SELECT name,type \n",
    "                         FROM sqlite_master \n",
    "                         WHERE type IN (\"table\",\"view\");'''\n",
    "                        )\n",
    "show_tables()"
   ]
  },
  {
   "cell_type": "markdown",
   "metadata": {
    "collapsed": true
   },
   "source": [
    "Find out which genres in the USA sell the best and plot"
   ]
  },
  {
   "cell_type": "code",
   "execution_count": 3,
   "metadata": {},
   "outputs": [
    {
     "data": {
      "text/html": [
       "<div>\n",
       "<style scoped>\n",
       "    .dataframe tbody tr th:only-of-type {\n",
       "        vertical-align: middle;\n",
       "    }\n",
       "\n",
       "    .dataframe tbody tr th {\n",
       "        vertical-align: top;\n",
       "    }\n",
       "\n",
       "    .dataframe thead th {\n",
       "        text-align: right;\n",
       "    }\n",
       "</style>\n",
       "<table border=\"1\" class=\"dataframe\">\n",
       "  <thead>\n",
       "    <tr style=\"text-align: right;\">\n",
       "      <th></th>\n",
       "      <th>count_of_genre</th>\n",
       "      <th>percentage_of_genre</th>\n",
       "    </tr>\n",
       "    <tr>\n",
       "      <th>genre</th>\n",
       "      <th></th>\n",
       "      <th></th>\n",
       "    </tr>\n",
       "  </thead>\n",
       "  <tbody>\n",
       "    <tr>\n",
       "      <th>Rock</th>\n",
       "      <td>561</td>\n",
       "      <td>0.533777</td>\n",
       "    </tr>\n",
       "    <tr>\n",
       "      <th>Alternative &amp; Punk</th>\n",
       "      <td>130</td>\n",
       "      <td>0.123692</td>\n",
       "    </tr>\n",
       "    <tr>\n",
       "      <th>Metal</th>\n",
       "      <td>124</td>\n",
       "      <td>0.117983</td>\n",
       "    </tr>\n",
       "    <tr>\n",
       "      <th>R&amp;B/Soul</th>\n",
       "      <td>53</td>\n",
       "      <td>0.050428</td>\n",
       "    </tr>\n",
       "    <tr>\n",
       "      <th>Blues</th>\n",
       "      <td>36</td>\n",
       "      <td>0.034253</td>\n",
       "    </tr>\n",
       "    <tr>\n",
       "      <th>Alternative</th>\n",
       "      <td>35</td>\n",
       "      <td>0.033302</td>\n",
       "    </tr>\n",
       "    <tr>\n",
       "      <th>Latin</th>\n",
       "      <td>22</td>\n",
       "      <td>0.020932</td>\n",
       "    </tr>\n",
       "    <tr>\n",
       "      <th>Pop</th>\n",
       "      <td>22</td>\n",
       "      <td>0.020932</td>\n",
       "    </tr>\n",
       "    <tr>\n",
       "      <th>Hip Hop/Rap</th>\n",
       "      <td>20</td>\n",
       "      <td>0.019029</td>\n",
       "    </tr>\n",
       "    <tr>\n",
       "      <th>Jazz</th>\n",
       "      <td>14</td>\n",
       "      <td>0.013321</td>\n",
       "    </tr>\n",
       "  </tbody>\n",
       "</table>\n",
       "</div>"
      ],
      "text/plain": [
       "                    count_of_genre  percentage_of_genre\n",
       "genre                                                  \n",
       "Rock                           561             0.533777\n",
       "Alternative & Punk             130             0.123692\n",
       "Metal                          124             0.117983\n",
       "R&B/Soul                        53             0.050428\n",
       "Blues                           36             0.034253\n",
       "Alternative                     35             0.033302\n",
       "Latin                           22             0.020932\n",
       "Pop                             22             0.020932\n",
       "Hip Hop/Rap                     20             0.019029\n",
       "Jazz                            14             0.013321"
      ]
     },
     "execution_count": 3,
     "metadata": {},
     "output_type": "execute_result"
    }
   ],
   "source": [
    "query = ('''SELECT g.name AS genre, COUNT(g.name) as count_of_genre \n",
    "         FROM customer c JOIN invoice i \n",
    "         ON c.customer_id = i.customer_id \n",
    "         JOIN invoice_line il \n",
    "         ON i.invoice_id = il.invoice_id \n",
    "         JOIN track t \n",
    "         ON il.track_id = t.track_id \n",
    "         join genre g \n",
    "         ON t.genre_id = g.genre_id \n",
    "         WHERE country = \"USA\" \n",
    "         GROUP BY g.name \n",
    "         ORDER BY 2 desc;'''\n",
    "        )\n",
    "\n",
    "genre_sales_usa = run_query(query)\n",
    "genre_sales_usa = genre_sales_usa.set_index('genre')\n",
    "genre_sales_usa['percentage_of_genre'] = (genre_sales_usa['count_of_genre']/\n",
    "                                          genre_sales_usa['count_of_genre'].sum()\n",
    "                                         )\n",
    "\n",
    "top_10_genre = genre_sales_usa.head(10)\n",
    "top_10_genre"
   ]
  },
  {
   "cell_type": "code",
   "execution_count": 4,
   "metadata": {},
   "outputs": [
    {
     "data": {
      "text/plain": [
       "<matplotlib.axes._subplots.AxesSubplot at 0x1073800b8>"
      ]
     },
     "execution_count": 4,
     "metadata": {},
     "output_type": "execute_result"
    },
    {
     "data": {
      "image/png": "[encoded data removed]",
      "text/plain": [
       "<Figure size 360x360 with 1 Axes>"
      ]
     },
     "metadata": {},
     "output_type": "display_data"
    }
   ],
   "source": [
    "top_10_genre['count_of_genre'].plot.pie(y='genre', figsize =(5,5))"
   ]
  },
  {
   "cell_type": "markdown",
   "metadata": {},
   "source": [
    "Suppose we have new artists that we want to purchase to advertise in our store (see below)"
   ]
  },
  {
   "cell_type": "markdown",
   "metadata": {},
   "source": [
    "\n",
    "| Artist Name          | Genre   |\n",
    "|----------------------|---------|\n",
    "| Regal                | Hip-Hop |\n",
    "| Red Tone             | Punk    |\n",
    "| Meteor and the Girls | Pop     |\n",
    "| Slim Jim Bites       | Blues   |"
   ]
  },
  {
   "cell_type": "markdown",
   "metadata": {},
   "source": [
    "It seems that by our sales records, genres rock is the most sold. \n",
    "\n",
    "I believe we should purchase the artist *Red Tone*\n"
   ]
  },
  {
   "cell_type": "markdown",
   "metadata": {
    "collapsed": true
   },
   "source": [
    "Next, we will see which employee performs the best"
   ]
  },
  {
   "cell_type": "code",
   "execution_count": 5,
   "metadata": {},
   "outputs": [
    {
     "data": {
      "text/html": [
       "<div>\n",
       "<style scoped>\n",
       "    .dataframe tbody tr th:only-of-type {\n",
       "        vertical-align: middle;\n",
       "    }\n",
       "\n",
       "    .dataframe tbody tr th {\n",
       "        vertical-align: top;\n",
       "    }\n",
       "\n",
       "    .dataframe thead th {\n",
       "        text-align: right;\n",
       "    }\n",
       "</style>\n",
       "<table border=\"1\" class=\"dataframe\">\n",
       "  <thead>\n",
       "    <tr style=\"text-align: right;\">\n",
       "      <th></th>\n",
       "      <th>employee</th>\n",
       "      <th>hire_date</th>\n",
       "      <th>total_dollar</th>\n",
       "    </tr>\n",
       "  </thead>\n",
       "  <tbody>\n",
       "    <tr>\n",
       "      <th>0</th>\n",
       "      <td>Jane Peacock</td>\n",
       "      <td>2017-04-01 00:00:00</td>\n",
       "      <td>1731.51</td>\n",
       "    </tr>\n",
       "    <tr>\n",
       "      <th>1</th>\n",
       "      <td>Margaret Park</td>\n",
       "      <td>2017-05-03 00:00:00</td>\n",
       "      <td>1584.00</td>\n",
       "    </tr>\n",
       "    <tr>\n",
       "      <th>2</th>\n",
       "      <td>Steve Johnson</td>\n",
       "      <td>2017-10-17 00:00:00</td>\n",
       "      <td>1393.92</td>\n",
       "    </tr>\n",
       "  </tbody>\n",
       "</table>\n",
       "</div>"
      ],
      "text/plain": [
       "        employee            hire_date  total_dollar\n",
       "0   Jane Peacock  2017-04-01 00:00:00       1731.51\n",
       "1  Margaret Park  2017-05-03 00:00:00       1584.00\n",
       "2  Steve Johnson  2017-10-17 00:00:00       1393.92"
      ]
     },
     "execution_count": 5,
     "metadata": {},
     "output_type": "execute_result"
    }
   ],
   "source": [
    "query = '''\n",
    "SELECT e.first_name || \" \" || e.last_name employee,\n",
    "e.hire_date,\n",
    "sum(i.total) total_dollar\n",
    "FROM employee e JOIN customer c\n",
    "ON e.employee_id = c.support_rep_id\n",
    "JOIN invoice i\n",
    "ON c.customer_id = i.customer_id\n",
    "GROUP BY 1\n",
    "ORDER BY 3 DESC\n",
    "'''\n",
    "\n",
    "employee_earning = run_query(query)\n",
    "employee_earning"
   ]
  },
  {
   "cell_type": "code",
   "execution_count": 6,
   "metadata": {},
   "outputs": [
    {
     "data": {
      "text/plain": [
       "<matplotlib.axes._subplots.AxesSubplot at 0x112aab780>"
      ]
     },
     "execution_count": 6,
     "metadata": {},
     "output_type": "execute_result"
    },
    {
     "data": {
      "image/png": "[encoded data removed]",
      "text/plain": [
       "<Figure size 432x288 with 1 Axes>"
      ]
     },
     "metadata": {},
     "output_type": "display_data"
    }
   ],
   "source": [
    "employee_earning.plot.bar(x='employee', \n",
    "                          y='total_dollar', \n",
    "                          legend = False,\n",
    "                          rot = 45                        \n",
    "                         )"
   ]
  },
  {
   "cell_type": "markdown",
   "metadata": {},
   "source": [
    "Clearly, Jane has the highest total dollar amount. This may be because she was hired earlier than others. \n",
    "\n",
    "Let's see how much dollar per day each employee had by 2018-06-30"
   ]
  },
  {
   "cell_type": "code",
   "execution_count": 7,
   "metadata": {},
   "outputs": [],
   "source": [
    "from datetime import datetime\n",
    "\n",
    "def todate(str):\n",
    "    return datetime.strptime(str,'%Y-%m-%d %H:%M:%S')\n",
    "\n",
    "#Change datatype of hiredate\n",
    "employee_earning['hire_date'] = employee_earning['hire_date'].map(todate)\n"
   ]
  },
  {
   "cell_type": "code",
   "execution_count": 8,
   "metadata": {},
   "outputs": [
    {
     "data": {
      "text/html": [
       "<div>\n",
       "<style scoped>\n",
       "    .dataframe tbody tr th:only-of-type {\n",
       "        vertical-align: middle;\n",
       "    }\n",
       "\n",
       "    .dataframe tbody tr th {\n",
       "        vertical-align: top;\n",
       "    }\n",
       "\n",
       "    .dataframe thead th {\n",
       "        text-align: right;\n",
       "    }\n",
       "</style>\n",
       "<table border=\"1\" class=\"dataframe\">\n",
       "  <thead>\n",
       "    <tr style=\"text-align: right;\">\n",
       "      <th></th>\n",
       "      <th>employee</th>\n",
       "      <th>hire_date</th>\n",
       "      <th>total_dollar</th>\n",
       "      <th>earnings_per_day_20180630</th>\n",
       "    </tr>\n",
       "  </thead>\n",
       "  <tbody>\n",
       "    <tr>\n",
       "      <th>0</th>\n",
       "      <td>Jane Peacock</td>\n",
       "      <td>2017-04-01</td>\n",
       "      <td>1731.51</td>\n",
       "      <td>3.805516</td>\n",
       "    </tr>\n",
       "    <tr>\n",
       "      <th>1</th>\n",
       "      <td>Margaret Park</td>\n",
       "      <td>2017-05-03</td>\n",
       "      <td>1584.00</td>\n",
       "      <td>3.744681</td>\n",
       "    </tr>\n",
       "    <tr>\n",
       "      <th>2</th>\n",
       "      <td>Steve Johnson</td>\n",
       "      <td>2017-10-17</td>\n",
       "      <td>1393.92</td>\n",
       "      <td>5.445000</td>\n",
       "    </tr>\n",
       "  </tbody>\n",
       "</table>\n",
       "</div>"
      ],
      "text/plain": [
       "        employee  hire_date  total_dollar  earnings_per_day_20180630\n",
       "0   Jane Peacock 2017-04-01       1731.51                   3.805516\n",
       "1  Margaret Park 2017-05-03       1584.00                   3.744681\n",
       "2  Steve Johnson 2017-10-17       1393.92                   5.445000"
      ]
     },
     "execution_count": 8,
     "metadata": {},
     "output_type": "execute_result"
    }
   ],
   "source": [
    "#divide the earnings by the date difference of 20180630 to hire date\n",
    "employee_earning['earnings_per_day_20180630'] = (employee_earning['total_dollar']/\n",
    "                                                ((datetime.strptime('2018-06-30','%Y-%m-%d') - \n",
    "                                                  employee_earning['hire_date']).dt.days)\n",
    "                                                 )\n",
    "\n",
    "employee_earning"
   ]
  },
  {
   "cell_type": "code",
   "execution_count": 9,
   "metadata": {},
   "outputs": [
    {
     "data": {
      "text/plain": [
       "<matplotlib.axes._subplots.AxesSubplot at 0x112bcabe0>"
      ]
     },
     "execution_count": 9,
     "metadata": {},
     "output_type": "execute_result"
    },
    {
     "data": {
      "image/png": "[encoded data removed]",
      "text/plain": [
       "<Figure size 432x288 with 1 Axes>"
      ]
     },
     "metadata": {},
     "output_type": "display_data"
    }
   ],
   "source": [
    "employee_earning.plot.bar(x= 'employee', \n",
    "                          y='earnings_per_day_20180630',\n",
    "                          legend = False,\n",
    "                          rot = 45\n",
    "                         )"
   ]
  },
  {
   "cell_type": "markdown",
   "metadata": {},
   "source": [
    "As we can see, Steven was the best performer based on daily income\n",
    "\n",
    "Next, we will see: \n",
    "- total number of customers\n",
    "- total value of sales\n",
    "- average value of sales per customer\n",
    "\n",
    "- average order value"
   ]
  },
  {
   "cell_type": "code",
   "execution_count": 12,
   "metadata": {},
   "outputs": [
    {
     "data": {
      "text/html": [
       "<div>\n",
       "<style scoped>\n",
       "    .dataframe tbody tr th:only-of-type {\n",
       "        vertical-align: middle;\n",
       "    }\n",
       "\n",
       "    .dataframe tbody tr th {\n",
       "        vertical-align: top;\n",
       "    }\n",
       "\n",
       "    .dataframe thead th {\n",
       "        text-align: right;\n",
       "    }\n",
       "</style>\n",
       "<table border=\"1\" class=\"dataframe\">\n",
       "  <thead>\n",
       "    <tr style=\"text-align: right;\">\n",
       "      <th></th>\n",
       "      <th>country</th>\n",
       "      <th>customer_count</th>\n",
       "      <th>TOTAL</th>\n",
       "      <th>avg_customer_sale</th>\n",
       "      <th>avg_order_value</th>\n",
       "    </tr>\n",
       "  </thead>\n",
       "  <tbody>\n",
       "    <tr>\n",
       "      <th>0</th>\n",
       "      <td>USA</td>\n",
       "      <td>13</td>\n",
       "      <td>1040.49</td>\n",
       "      <td>80.037692</td>\n",
       "      <td>7.942672</td>\n",
       "    </tr>\n",
       "    <tr>\n",
       "      <th>1</th>\n",
       "      <td>Canada</td>\n",
       "      <td>8</td>\n",
       "      <td>535.59</td>\n",
       "      <td>66.948750</td>\n",
       "      <td>7.047237</td>\n",
       "    </tr>\n",
       "    <tr>\n",
       "      <th>2</th>\n",
       "      <td>Brazil</td>\n",
       "      <td>5</td>\n",
       "      <td>427.68</td>\n",
       "      <td>85.536000</td>\n",
       "      <td>7.011148</td>\n",
       "    </tr>\n",
       "    <tr>\n",
       "      <th>3</th>\n",
       "      <td>France</td>\n",
       "      <td>5</td>\n",
       "      <td>389.07</td>\n",
       "      <td>77.814000</td>\n",
       "      <td>7.781400</td>\n",
       "    </tr>\n",
       "    <tr>\n",
       "      <th>4</th>\n",
       "      <td>Germany</td>\n",
       "      <td>4</td>\n",
       "      <td>334.62</td>\n",
       "      <td>83.655000</td>\n",
       "      <td>8.161463</td>\n",
       "    </tr>\n",
       "    <tr>\n",
       "      <th>5</th>\n",
       "      <td>Czech Republic</td>\n",
       "      <td>2</td>\n",
       "      <td>273.24</td>\n",
       "      <td>136.620000</td>\n",
       "      <td>9.108000</td>\n",
       "    </tr>\n",
       "    <tr>\n",
       "      <th>6</th>\n",
       "      <td>United Kingdom</td>\n",
       "      <td>3</td>\n",
       "      <td>245.52</td>\n",
       "      <td>81.840000</td>\n",
       "      <td>8.768571</td>\n",
       "    </tr>\n",
       "    <tr>\n",
       "      <th>7</th>\n",
       "      <td>Portugal</td>\n",
       "      <td>2</td>\n",
       "      <td>185.13</td>\n",
       "      <td>92.565000</td>\n",
       "      <td>6.383793</td>\n",
       "    </tr>\n",
       "    <tr>\n",
       "      <th>8</th>\n",
       "      <td>India</td>\n",
       "      <td>2</td>\n",
       "      <td>183.15</td>\n",
       "      <td>91.575000</td>\n",
       "      <td>8.721429</td>\n",
       "    </tr>\n",
       "    <tr>\n",
       "      <th>9</th>\n",
       "      <td>Other</td>\n",
       "      <td>15</td>\n",
       "      <td>1094.94</td>\n",
       "      <td>72.996000</td>\n",
       "      <td>7.448571</td>\n",
       "    </tr>\n",
       "  </tbody>\n",
       "</table>\n",
       "</div>"
      ],
      "text/plain": [
       "          country  customer_count    TOTAL  avg_customer_sale  avg_order_value\n",
       "0             USA              13  1040.49          80.037692         7.942672\n",
       "1          Canada               8   535.59          66.948750         7.047237\n",
       "2          Brazil               5   427.68          85.536000         7.011148\n",
       "3          France               5   389.07          77.814000         7.781400\n",
       "4         Germany               4   334.62          83.655000         8.161463\n",
       "5  Czech Republic               2   273.24         136.620000         9.108000\n",
       "6  United Kingdom               3   245.52          81.840000         8.768571\n",
       "7        Portugal               2   185.13          92.565000         6.383793\n",
       "8           India               2   183.15          91.575000         8.721429\n",
       "9           Other              15  1094.94          72.996000         7.448571"
      ]
     },
     "execution_count": 12,
     "metadata": {},
     "output_type": "execute_result"
    }
   ],
   "source": [
    "query = '''\n",
    "WITH country_sales_order AS\n",
    "    (SELECT \n",
    "        SUM(il.unit_price) AS total,\n",
    "        COUNT(distinct i.customer_id) customer_count,\n",
    "        COUNT(distinct il.invoice_id) invoice_count,\n",
    "        c.country\n",
    "    FROM invoice_line il JOIN invoice i\n",
    "    ON il.invoice_id = i.invoice_id\n",
    "    JOIN customer c\n",
    "    ON i.customer_id = c.customer_id\n",
    "    GROUP BY c.country)\n",
    "\n",
    "\n",
    "SELECT \n",
    "new_country as country,\n",
    "SUM(customer_count) as customer_count,\n",
    "SUM(total) as TOTAL,\n",
    "SUM(total)/SUM(customer_count) avg_customer_sale,\n",
    "SUM(total)/SUM(invoice_count) avg_order_value\n",
    "FROM \n",
    "\n",
    "(SELECT *,\n",
    "CASE WHEN customer_count = 1 THEN 'Other'\n",
    "    ELSE country END AS new_country,\n",
    "CASE WHEN customer_count = 1 then 1\n",
    "    ELSE 0 END AS other_counter\n",
    "FROM\n",
    "country_sales_order)\n",
    "\n",
    "GROUP BY 1\n",
    "ORDER BY other_counter ASC, 3 DESC\n",
    "\n",
    "'''\n",
    "\n",
    "sales = run_query(query)\n",
    "sales"
   ]
  },
  {
   "cell_type": "code",
   "execution_count": 13,
   "metadata": {},
   "outputs": [
    {
     "data": {
      "text/plain": [
       "<matplotlib.lines.Line2D at 0x1130101d0>"
      ]
     },
     "execution_count": 13,
     "metadata": {},
     "output_type": "execute_result"
    },
    {
     "data": {
      "image/png": "[encoded data removed]",
      "text/plain": [
       "<Figure size 720x576 with 2 Axes>"
      ]
     },
     "metadata": {},
     "output_type": "display_data"
    }
   ],
   "source": [
    "new_sales = sales[sales['country']!='Other']\n",
    "new_sales.set_index('country', drop = True, inplace = True)\n",
    "\n",
    "fig, ax = plt.subplots(nrows=1, ncols=2, figsize=(10,8))\n",
    "ax1,ax2 = ax.flatten()\n",
    "\n",
    "#Left gragh\n",
    "avg_cs = new_sales['avg_customer_sale'].copy()\n",
    "avg_cs.index.name = ''                  #To not show on graph\n",
    "avg_cs.plot.bar(ax = ax1)\n",
    "ax1.set_title('Average Customer Sales')\n",
    "ax1.spines[\"top\"].set_visible(False)\n",
    "ax1.spines[\"right\"].set_visible(False)\n",
    "ax1.spines[\"left\"].set_visible(False)   #hide borders\n",
    "ax1.tick_params(length=0)               #hide ticks\n",
    "\n",
    "#Right Graph\n",
    "avg_order = new_sales['avg_order_value'].copy()\n",
    "avg_order.index.name = '' \n",
    "difference_from_avg = avg_order * 100 / avg_order.mean() - 100\n",
    "difference_from_avg.plot.bar(ax=ax2)\n",
    "ax2.set_title('Average Order Value Compared to Mean')\n",
    "ax2.spines[\"top\"].set_visible(False)\n",
    "ax2.spines[\"right\"].set_visible(False)\n",
    "ax2.spines[\"bottom\"].set_visible(False)   #hide borders\n",
    "ax2.tick_params(length=0)               #hide ticks\n",
    "ax2.axhline(0, color='k')\n"
   ]
  },
  {
   "cell_type": "markdown",
   "metadata": {},
   "source": [
    "Based on the graphs, it looks like the three countries to expand would be:\n",
    "- Czech Republic\n",
    "- United Kingdom\n",
    "- India"
   ]
  },
  {
   "cell_type": "code",
   "execution_count": null,
   "metadata": {},
   "outputs": [],
   "source": []
  }
 ],
 "metadata": {
  "kernelspec": {
   "display_name": "Python 3",
   "language": "python",
   "name": "python3"
  },
  "language_info": {
   "codemirror_mode": {
    "name": "ipython",
    "version": 3
   },
   "file_extension": ".py",
   "mimetype": "text/x-python",
   "name": "python",
   "nbconvert_exporter": "python",
   "pygments_lexer": "ipython3",
   "version": "3.6.5"
  }
 },
 "nbformat": 4,
 "nbformat_minor": 2
}
